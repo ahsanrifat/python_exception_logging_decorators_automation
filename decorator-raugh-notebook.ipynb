{
 "cells": [
  {
   "cell_type": "code",
   "execution_count": 47,
   "metadata": {},
   "outputs": [],
   "source": [
    "def get_execution_time(func,*args,**kwargs):\n",
    "    from time import time\n",
    "    start_time=time()\n",
    "    result=func(*args,**kwargs)\n",
    "    taken_time=time()-start_time\n",
    "    print(\"\\n-----\"+func.__name__+\"'s taken time to execute\"+\"-----\")\n",
    "    if taken_time>59:\n",
    "        print(taken_time/60,\"minutes\")\n",
    "    else:\n",
    "        print(taken_time,\"seconds\")\n",
    "    print(\"----Timeit done------\\n\")\n",
    "    return result\n",
    "    \n",
    "def handle_exception(log=True,print_exception=True,stop_execution=False,record_exe_time=False,log_path=None,log_file_name=None):\n",
    "    def main_decorator(func):\n",
    "        def wrapper_func(*args,**kwargs):\n",
    "            try:\n",
    "                if not record_exe_time:\n",
    "                    return func(*args,**kwargs)\n",
    "                else:\n",
    "                    return get_execution_time(func,*args,**kwargs)         \n",
    "            except Exception as e:\n",
    "                if print_exception:\n",
    "                    print(f\"Exception->{func.__name__}->{e}\")\n",
    "                if log:\n",
    "                    pass\n",
    "                if stop_execution:\n",
    "                    raise e\n",
    "        return wrapper_func\n",
    "    return main_decorator\n",
    "def timeit(func):\n",
    "    from time import time\n",
    "    def wrapper_func(*args,**kwargs):\n",
    "        start_time=time()\n",
    "        result=func(*args,**kwargs)\n",
    "        taken_time=time()-start_time\n",
    "        print(\"----\"+func.__name__+\"-----\")\n",
    "        if taken_time>59:\n",
    "            print(taken_time/60,\"minutes\")\n",
    "        else:\n",
    "            print(taken_time,\"seconds\")\n",
    "        return result\n",
    "    return wrapper_func\n",
    "            "
   ]
  },
  {
   "cell_type": "code",
   "execution_count": 49,
   "metadata": {},
   "outputs": [
    {
     "name": "stdout",
     "output_type": "stream",
     "text": [
      "Testing\n"
     ]
    },
    {
     "data": {
      "text/plain": [
       "'Returning'"
      ]
     },
     "execution_count": 49,
     "metadata": {},
     "output_type": "execute_result"
    }
   ],
   "source": [
    "@handle_exception(stop_execution=True)\n",
    "def test_decorator():\n",
    "    print(\"Testing\")\n",
    "    # 2/0\n",
    "    return \"Returning\"\n",
    "test_decorator()"
   ]
  },
  {
   "cell_type": "code",
   "execution_count": 1,
   "metadata": {},
   "outputs": [
    {
     "name": "stdout",
     "output_type": "stream",
     "text": [
      "Init Log\n"
     ]
    }
   ],
   "source": [
    "from datetime import datetime\n",
    "from custom_logger import CustomLogger\n",
    "\n",
    "def handle_exception(\n",
    "    log=True,print_exception=True,stop_execution=False,record_exe_time=False,skip_args=False,\n",
    "    log_file_name=datetime.now().strftime(f\"%d-%m-%Y.log\"),\n",
    "    log_path=\"logs\"\n",
    "    ):\n",
    "    c_logger=CustomLogger(log_file_name=log_file_name,log_path=log_path)\n",
    "    def main_decorator(func):\n",
    "        def wrapper_func(*args,**kwargs):\n",
    "            try:\n",
    "                if not record_exe_time:\n",
    "                    return func(*args,**kwargs)\n",
    "                else:\n",
    "                    from helper_functions import get_execution_time\n",
    "                    return get_execution_time(func,*args,**kwargs)         \n",
    "            except Exception as e:\n",
    "                if print_exception:\n",
    "                    print(f\"Exception->{func.__name__}->{e}\")\n",
    "                if log:\n",
    "                    if skip_args:\n",
    "                        c_logger.handle_exception_log(method_name=func.__name__,exception_str=str(e))\n",
    "                    else:\n",
    "                        c_logger.handle_exception_log(method_name=func.__name__,exception_str=str(e),*args,**kwargs)\n",
    "                if stop_execution:\n",
    "                    raise e\n",
    "        return wrapper_func\n",
    "    return main_decorator\n",
    "@handle_exception(stop_execution=True)\n",
    "def test_decorator():\n",
    "    print(\"Testing\")\n",
    "    # 2/0\n",
    "    return \"Returning\""
   ]
  },
  {
   "cell_type": "code",
   "execution_count": 2,
   "metadata": {},
   "outputs": [
    {
     "name": "stdout",
     "output_type": "stream",
     "text": [
      "Init Log\n"
     ]
    }
   ],
   "source": [
    "@handle_exception(stop_execution=True)\n",
    "def test2():\n",
    "    \"\"\"\"\"\""
   ]
  }
 ],
 "metadata": {
  "interpreter": {
   "hash": "2ec3ecaedf08f37d2bbc7f31ec7993950d4a5fc39376d9787757c4cca7d33fe4"
  },
  "kernelspec": {
   "display_name": "Python 3.9.7 ('base')",
   "language": "python",
   "name": "python3"
  },
  "language_info": {
   "codemirror_mode": {
    "name": "ipython",
    "version": 3
   },
   "file_extension": ".py",
   "mimetype": "text/x-python",
   "name": "python",
   "nbconvert_exporter": "python",
   "pygments_lexer": "ipython3",
   "version": "3.9.7"
  },
  "orig_nbformat": 4
 },
 "nbformat": 4,
 "nbformat_minor": 2
}
